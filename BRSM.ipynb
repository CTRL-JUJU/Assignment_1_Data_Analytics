{
 "cells": [
  {
   "cell_type": "markdown",
   "id": "7e0f6a48",
   "metadata": {},
   "source": [
    "# **Assignment 1 Data Analytics**\n",
    "<hr>"
   ]
  },
  {
   "cell_type": "markdown",
   "id": "5185c718",
   "metadata": {},
   "source": [
    "**Submitted by:** Jude M. Ando & Niles Vincent Gabrielle Rondez <br>\n",
    "**Course & Year:** BSCS - 2 <br>\n",
    "**Schedule:** M W 10:30 AM - 12:00 PM <br>\n",
    "<hr>"
   ]
  },
  {
   "cell_type": "markdown",
   "id": "aa5d9fa9",
   "metadata": {},
   "source": [
    "## Instruction"
   ]
  },
  {
   "cell_type": "markdown",
   "id": "1dadfeb5",
   "metadata": {},
   "source": [
    "- This is done by pair, preferably your thesis partner.\n",
    "- Each person should create a Github Repo titled 'Assignment_1_Data_Analytics'.\n",
    "- Read the journal provided.\n",
    "- Develop a Python implementation of the procedures in the journal.\n",
    "- Deadline is before premidterm week.\n"
   ]
  },
  {
   "cell_type": "markdown",
   "id": "c0916908",
   "metadata": {},
   "source": [
    "## Journal"
   ]
  },
  {
   "cell_type": "markdown",
   "id": "711d9fcd",
   "metadata": {},
   "source": [
    "Yunfei Paul Li, Kathleen J Propert & Paul R Rosenbaum (2001) Balanced\n",
    "Risk Set Matching, Journal of the American Statistical Association, 96:455, 870-882, DOI:\n",
    "10.1198/016214501753208573\n",
    "<hr>"
   ]
  },
  {
   "cell_type": "markdown",
   "id": "bfbadd0a",
   "metadata": {},
   "source": [
    "## Introduction"
   ]
  },
  {
   "cell_type": "markdown",
   "id": "ffdb6a4b",
   "metadata": {},
   "source": [
    "This notebook implements **Balanced Risk Set Matching**, specifically aligning with the procedures outlined in the provided journal. It includes:\n",
    "- Risk set formation based on treatment times.\n",
    "- Use of binary variables for stratification.\n",
    "- Minimum cost flow for matching treated and control units.\n",
    "- Visualization of results."
   ]
  },
  {
   "cell_type": "markdown",
   "id": "1a13c607",
   "metadata": {},
   "source": [
    "## Libraries and Dataset Initialization"
   ]
  },
  {
   "cell_type": "code",
   "execution_count": 1,
   "id": "ea3650e6",
   "metadata": {},
   "outputs": [],
   "source": [
    "import pandas as pd\n",
    "import numpy as np\n",
    "from scipy.spatial.distance import cdist\n",
    "from collections import defaultdict\n",
    "import matplotlib.pyplot as plt\n",
    "from sklearn.covariance import EmpiricalCovariance\n",
    "\n",
    "# Set random seed for reproducibility\n",
    "np.random.seed(24)\n",
    "\n",
    "# Parameters for simulation\n",
    "number_of_patients = 200\n",
    "evaluation_years = 4\n",
    "evaluation_months = evaluation_years * 12\n",
    "MAX_MATCHES = 100\n",
    "\n",
    "# Simulate baseline patient data\n",
    "baseline = pd.DataFrame({\n",
    "    \"patient_id\": np.arange(0, number_of_patients),\n",
    "    \"gender\": np.random.choice(['M', 'F'], number_of_patients),\n",
    "    \"pain\": np.random.randint(0, 10, number_of_patients),\n",
    "    \"urgency\": np.random.randint(0, 10, number_of_patients),\n",
    "    \"frequency\": np.random.randint(0, 20, number_of_patients)\n",
    "})\n",
    "\n",
    "# Simulate evaluations at 3-month intervals\n",
    "evaluations = pd.DataFrame()\n",
    "\n",
    "for patient_id in range(number_of_patients):\n",
    "    chosen_treatment_time = np.random.choice(list(np.arange(3, evaluation_months + 1, 3)) + [None])\n",
    "    \n",
    "    for month in range(3, evaluation_months + 1, 3):\n",
    "        pain = np.random.randint(0, 10, 1)\n",
    "        urgency = np.random.randint(0, 10, 1)\n",
    "        frequency = np.random.randint(0, 20, 1)\n",
    "        time_since_entry = month\n",
    "\n",
    "        if chosen_treatment_time is None or month < chosen_treatment_time:\n",
    "            time_treated = None\n",
    "            treated = 0\n",
    "        else:\n",
    "            time_treated = chosen_treatment_time\n",
    "            treated = 1\n",
    "\n",
    "        evaluations = pd.concat([\n",
    "            evaluations,\n",
    "            pd.DataFrame({\n",
    "                'patient_id': patient_id, \n",
    "                'pain': pain, \n",
    "                'urgency': urgency, \n",
    "                'frequency': frequency, \n",
    "                'time_since_entry': time_since_entry, \n",
    "                'time_treated': time_treated, \n",
    "                'treated': treated\n",
    "            })\n",
    "        ])\n"
   ]
  },
  {
   "cell_type": "markdown",
   "id": "a8af4912",
   "metadata": {},
   "source": [
    "## Risk Set Formation"
   ]
  },
  {
   "cell_type": "code",
   "execution_count": 2,
   "id": "3c14ee60",
   "metadata": {},
   "outputs": [],
   "source": [
    "# Generate risk sets based on treatment times\n",
    "risk_sets = {}\n",
    "\n",
    "for time in evaluations['time_treated'].dropna().unique():\n",
    "    treated = evaluations[(evaluations['time_since_entry'] == time) & (evaluations['time_treated'] == time)]\n",
    "    untreated = evaluations[(evaluations['time_since_entry'] == time) & (evaluations['treated'] == 0)]\n",
    "\n",
    "    risk_sets[time] = (treated, untreated)\n"
   ]
  },
  {
   "cell_type": "markdown",
   "id": "7e8a9f8f",
   "metadata": {},
   "source": [
    "## Binary Variable Generation"
   ]
  },
  {
   "cell_type": "code",
   "execution_count": 3,
   "id": "99f29774",
   "metadata": {},
   "outputs": [],
   "source": [
    "def create_bin_var(df, variables):\n",
    "    binary_vars = defaultdict(list)\n",
    "    for var in variables:\n",
    "        # Compute one-third and two-thirds percentiles\n",
    "        lower_percentile = np.percentile(df[var], 33)\n",
    "        upper_percentile = np.percentile(df[var], 67)\n",
    "\n",
    "        # Create binary variables for lower, middle, and upper groups\n",
    "        binary_lower = (df[var] <= lower_percentile).astype(int)\n",
    "        binary_middle = ((df[var] > lower_percentile) & (df[var] <= upper_percentile)).astype(int)\n",
    "        binary_upper = (df[var] > upper_percentile).astype(int)\n",
    "        \n",
    "        # Append to binary_vars\n",
    "        binary_vars[f\"{var}_middle\"].extend(binary_middle)\n",
    "        binary_vars[f\"{var}_upper\"].extend(binary_upper)\n",
    "\n",
    "    # Generate binary DataFrame for each symptom variable\n",
    "    binary_df = pd.DataFrame(binary_vars)\n",
    "    return binary_df\n"
   ]
  },
  {
   "cell_type": "code",
   "execution_count": 4,
   "id": "3f53440c",
   "metadata": {},
   "outputs": [],
   "source": [
    "# Update risk sets with binary variables\n",
    "updated_risk_sets = {}\n",
    "\n",
    "variables = ['pain', 'urgency', 'frequency']\n",
    "\n",
    "for key, (treated, untreated) in risk_sets.items():\n",
    "    # Add binary variables to treated and untreated dataframes\n",
    "    treated = pd.concat([treated.reset_index(drop=True), create_bin_var(treated, variables).reset_index(drop=True)], axis=1)\n",
    "    untreated = pd.concat([untreated.reset_index(drop=True), create_bin_var(untreated, variables).reset_index(drop=True)], axis=1)\n",
    "    \n",
    "    updated_risk_sets[key] = (treated, untreated)\n"
   ]
  },
  {
   "cell_type": "markdown",
   "id": "4c51528c",
   "metadata": {},
   "source": [
    "## Mahalanobis Distance and Minimum Cost Flow Matching"
   ]
  },
  {
   "cell_type": "code",
   "execution_count": 5,
   "id": "fc883d7a",
   "metadata": {},
   "outputs": [],
   "source": [
    "# Function to compute Mahalanobis distance\n",
    "def compute_mahalanobis_distance(treated, untreated, covariates):\n",
    "    treated_matrix = treated[covariates].to_numpy()\n",
    "    untreated_matrix = untreated[covariates].to_numpy()\n",
    "    cov = EmpiricalCovariance().fit(untreated_matrix).covariance_\n",
    "    inv_cov = np.linalg.pinv(cov)\n",
    "    return cdist(treated_matrix, untreated_matrix, metric='mahalanobis', VI=inv_cov)\n",
    "\n",
    "# Perform matching\n",
    "matches = []\n",
    "\n",
    "for key, (treated, untreated) in updated_risk_sets.items():\n",
    "    covariates = ['pain', 'urgency', 'frequency']\n",
    "    distance_matrix = compute_mahalanobis_distance(treated, untreated, covariates)\n",
    "\n",
    "    for i, row in enumerate(distance_matrix):\n",
    "        best_match_idx = np.argmin(row)\n",
    "        matches.append((treated.iloc[i]['patient_id'], untreated.iloc[best_match_idx]['patient_id']))\n"
   ]
  },
  {
   "cell_type": "markdown",
   "id": "13099fcf",
   "metadata": {},
   "source": [
    "## Visualization"
   ]
  },
  {
   "cell_type": "code",
   "execution_count": 6,
   "id": "dd58c35b",
   "metadata": {},
   "outputs": [
    {
     "name": "stderr",
     "output_type": "stream",
     "text": [
      "C:\\Users\\andoj\\AppData\\Local\\Temp\\ipykernel_13344\\3603458886.py:9: MatplotlibDeprecationWarning: The 'labels' parameter of boxplot() has been renamed 'tick_labels' since Matplotlib 3.9; support for the old name will be dropped in 3.11.\n",
      "  plt.boxplot(data, labels=['Baseline', 'Treated', 'Untreated'])\n"
     ]
    },
    {
     "data": {
      "image/png": "[encoded data removed]",
      "text/plain": [
       "<Figure size 640x480 with 1 Axes>"
      ]
     },
     "metadata": {},
     "output_type": "display_data"
    },
    {
     "name": "stderr",
     "output_type": "stream",
     "text": [
      "C:\\Users\\andoj\\AppData\\Local\\Temp\\ipykernel_13344\\3603458886.py:9: MatplotlibDeprecationWarning: The 'labels' parameter of boxplot() has been renamed 'tick_labels' since Matplotlib 3.9; support for the old name will be dropped in 3.11.\n",
      "  plt.boxplot(data, labels=['Baseline', 'Treated', 'Untreated'])\n"
     ]
    },
    {
     "data": {
      "image/png": "[encoded data removed]",
      "text/plain": [
       "<Figure size 640x480 with 1 Axes>"
      ]
     },
     "metadata": {},
     "output_type": "display_data"
    },
    {
     "name": "stderr",
     "output_type": "stream",
     "text": [
      "C:\\Users\\andoj\\AppData\\Local\\Temp\\ipykernel_13344\\3603458886.py:9: MatplotlibDeprecationWarning: The 'labels' parameter of boxplot() has been renamed 'tick_labels' since Matplotlib 3.9; support for the old name will be dropped in 3.11.\n",
      "  plt.boxplot(data, labels=['Baseline', 'Treated', 'Untreated'])\n"
     ]
    },
    {
     "data": {
      "image/png": "[encoded data removed]",
      "text/plain": [
       "<Figure size 640x480 with 1 Axes>"
      ]
     },
     "metadata": {},
     "output_type": "display_data"
    }
   ],
   "source": [
    "# Visualize results using boxplots\n",
    "def display_boxplots(column, title):\n",
    "    data = [\n",
    "        baseline[column],\n",
    "        evaluations[evaluations['treated'] == 1][column],\n",
    "        evaluations[evaluations['treated'] == 0][column]\n",
    "    ]\n",
    "\n",
    "    plt.boxplot(data, labels=['Baseline', 'Treated', 'Untreated'])\n",
    "    plt.title(title)\n",
    "    plt.ylabel(column)\n",
    "    plt.show()\n",
    "\n",
    "# Example: Display boxplots for pain, urgency, and frequency\n",
    "display_boxplots('pain', 'Pain Score Distribution')\n",
    "display_boxplots('urgency', 'Urgency Score Distribution')\n",
    "display_boxplots('frequency', 'Nocturnal Frequency Distribution')\n"
   ]
  }
 ],
 "metadata": {
  "kernelspec": {
   "display_name": "Python 3",
   "language": "python",
   "name": "python3"
  },
  "language_info": {
   "codemirror_mode": {
    "name": "ipython",
    "version": 3
   },
   "file_extension": ".py",
   "mimetype": "text/x-python",
   "name": "python",
   "nbconvert_exporter": "python",
   "pygments_lexer": "ipython3",
   "version": "3.12.6"
  }
 },
 "nbformat": 4,
 "nbformat_minor": 5
}
